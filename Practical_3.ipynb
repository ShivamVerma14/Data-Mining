{
  "nbformat": 4,
  "nbformat_minor": 0,
  "metadata": {
    "colab": {
      "name": "Practical - 3.ipynb",
      "provenance": [],
      "collapsed_sections": [],
      "authorship_tag": "ABX9TyMuaEvv85URgaxe/vbhmMew",
      "include_colab_link": true
    },
    "kernelspec": {
      "name": "python3",
      "display_name": "Python 3"
    },
    "language_info": {
      "name": "python"
    }
  },
  "cells": [
    {
      "cell_type": "markdown",
      "metadata": {
        "id": "view-in-github",
        "colab_type": "text"
      },
      "source": [
        "<a href=\"https://colab.research.google.com/github/ShivamVerma14/Data-Mining/blob/main/Practical_3.ipynb\" target=\"_parent\"><img src=\"https://colab.research.google.com/assets/colab-badge.svg\" alt=\"Open In Colab\"/></a>"
      ]
    },
    {
      "cell_type": "markdown",
      "source": [
        "## Q3. Load the data from wine dataset. Check whether all attributes are standardized or not (mean is 0 and standard deviation is 1). If not, standardize the attributes. Do the same with Iris dataset."
      ],
      "metadata": {
        "id": "j_pPaEti3C3d"
      }
    },
    {
      "cell_type": "code",
      "execution_count": null,
      "metadata": {
        "id": "f4eC7j1V2uHh"
      },
      "outputs": [],
      "source": [
        "import numpy as np\n",
        "from sklearn.preprocessing import StandardScaler\n",
        "from sklearn.datasets import load_wine, load_iris"
      ]
    },
    {
      "cell_type": "markdown",
      "source": [
        "### Wine Dataset"
      ],
      "metadata": {
        "id": "JD1gwbea3cLW"
      }
    },
    {
      "cell_type": "code",
      "source": [
        "data = load_wine()\n",
        "\n",
        "X = data.data"
      ],
      "metadata": {
        "id": "OYIu2_k63bYi"
      },
      "execution_count": null,
      "outputs": []
    },
    {
      "cell_type": "markdown",
      "source": [
        "**Mean and standard deviation along the columns.**"
      ],
      "metadata": {
        "id": "Jpu5FkML3osd"
      }
    },
    {
      "cell_type": "code",
      "source": [
        "X.mean(axis=0)"
      ],
      "metadata": {
        "colab": {
          "base_uri": "https://localhost:8080/"
        },
        "id": "x9oVsrZO3lY-",
        "outputId": "246ebfc2-685c-4ea3-ba42-6c4bb364ba83"
      },
      "execution_count": null,
      "outputs": [
        {
          "output_type": "execute_result",
          "data": {
            "text/plain": [
              "array([1.30006180e+01, 2.33634831e+00, 2.36651685e+00, 1.94949438e+01,\n",
              "       9.97415730e+01, 2.29511236e+00, 2.02926966e+00, 3.61853933e-01,\n",
              "       1.59089888e+00, 5.05808988e+00, 9.57449438e-01, 2.61168539e+00,\n",
              "       7.46893258e+02])"
            ]
          },
          "metadata": {},
          "execution_count": 3
        }
      ]
    },
    {
      "cell_type": "code",
      "source": [
        "X.std(axis=0)"
      ],
      "metadata": {
        "colab": {
          "base_uri": "https://localhost:8080/"
        },
        "id": "TyxIlC8O3vuH",
        "outputId": "6475162e-fb7d-4f08-a02f-0a5985348c09"
      },
      "execution_count": null,
      "outputs": [
        {
          "output_type": "execute_result",
          "data": {
            "text/plain": [
              "array([8.09542915e-01, 1.11400363e+00, 2.73572294e-01, 3.33016976e+00,\n",
              "       1.42423077e+01, 6.24090564e-01, 9.96048950e-01, 1.24103260e-01,\n",
              "       5.70748849e-01, 2.31176466e+00, 2.27928607e-01, 7.07993265e-01,\n",
              "       3.14021657e+02])"
            ]
          },
          "metadata": {},
          "execution_count": 4
        }
      ]
    },
    {
      "cell_type": "markdown",
      "source": [
        "**Standardizing the dataset.**"
      ],
      "metadata": {
        "id": "4NbJ4SgR31-x"
      }
    },
    {
      "cell_type": "code",
      "source": [
        "sc = StandardScaler()\n",
        "X = sc.fit_transform(X)"
      ],
      "metadata": {
        "id": "4uyiH5453yhI"
      },
      "execution_count": null,
      "outputs": []
    },
    {
      "cell_type": "code",
      "source": [
        "X.mean(axis=0)"
      ],
      "metadata": {
        "colab": {
          "base_uri": "https://localhost:8080/"
        },
        "id": "VwIWw5gQ4AYF",
        "outputId": "011e8c81-ad6b-4c62-baff-40028fec0d0b"
      },
      "execution_count": null,
      "outputs": [
        {
          "output_type": "execute_result",
          "data": {
            "text/plain": [
              "array([ 7.84141790e-15,  2.44498554e-16, -4.05917497e-15, -7.11041712e-17,\n",
              "       -2.49488320e-17, -1.95536471e-16,  9.44313292e-16, -4.17892936e-16,\n",
              "       -1.54059038e-15, -4.12903170e-16,  1.39838203e-15,  2.12688793e-15,\n",
              "       -6.98567296e-17])"
            ]
          },
          "metadata": {},
          "execution_count": 6
        }
      ]
    },
    {
      "cell_type": "code",
      "source": [
        "X.std(axis=0)"
      ],
      "metadata": {
        "colab": {
          "base_uri": "https://localhost:8080/"
        },
        "id": "adHeEYV14CMr",
        "outputId": "df3591e8-3864-47a5-b527-633f6844b867"
      },
      "execution_count": null,
      "outputs": [
        {
          "output_type": "execute_result",
          "data": {
            "text/plain": [
              "array([1., 1., 1., 1., 1., 1., 1., 1., 1., 1., 1., 1., 1.])"
            ]
          },
          "metadata": {},
          "execution_count": 7
        }
      ]
    },
    {
      "cell_type": "markdown",
      "source": [
        "### Iris Dataset"
      ],
      "metadata": {
        "id": "cyZ-SZo34Gt5"
      }
    },
    {
      "cell_type": "code",
      "source": [
        "data = load_iris()\n",
        "\n",
        "X = data.data"
      ],
      "metadata": {
        "id": "NkRFO1fH4Ffz"
      },
      "execution_count": null,
      "outputs": []
    },
    {
      "cell_type": "markdown",
      "source": [
        "**Mean and standard deviation along the columns.**"
      ],
      "metadata": {
        "id": "1-LbIRBe4UOo"
      }
    },
    {
      "cell_type": "code",
      "source": [
        "X.mean(axis=0)"
      ],
      "metadata": {
        "colab": {
          "base_uri": "https://localhost:8080/"
        },
        "id": "EKZ1SRFG4LZP",
        "outputId": "02652098-0169-4a11-8f6a-39cd31e710ea"
      },
      "execution_count": null,
      "outputs": [
        {
          "output_type": "execute_result",
          "data": {
            "text/plain": [
              "array([5.84333333, 3.05733333, 3.758     , 1.19933333])"
            ]
          },
          "metadata": {},
          "execution_count": 9
        }
      ]
    },
    {
      "cell_type": "code",
      "source": [
        "X.std(axis=0)"
      ],
      "metadata": {
        "colab": {
          "base_uri": "https://localhost:8080/"
        },
        "id": "xCYwr-uT4cas",
        "outputId": "3adc2dc7-1a1f-4f7d-c38a-1f9b0a6c62b7"
      },
      "execution_count": null,
      "outputs": [
        {
          "output_type": "execute_result",
          "data": {
            "text/plain": [
              "array([0.82530129, 0.43441097, 1.75940407, 0.75969263])"
            ]
          },
          "metadata": {},
          "execution_count": 10
        }
      ]
    },
    {
      "cell_type": "markdown",
      "source": [
        "**Standardizing the dataset.**"
      ],
      "metadata": {
        "id": "hiUxi5cr4gtb"
      }
    },
    {
      "cell_type": "code",
      "source": [
        "sc = StandardScaler()\n",
        "X = sc.fit_transform(X)"
      ],
      "metadata": {
        "id": "2ECjdm0w4ehX"
      },
      "execution_count": null,
      "outputs": []
    },
    {
      "cell_type": "code",
      "source": [
        "X.mean(axis=0)"
      ],
      "metadata": {
        "colab": {
          "base_uri": "https://localhost:8080/"
        },
        "id": "u4VbmI0n4nvG",
        "outputId": "65151bba-7ab9-4a8a-c938-7d7ba18b72cd"
      },
      "execution_count": null,
      "outputs": [
        {
          "output_type": "execute_result",
          "data": {
            "text/plain": [
              "array([-1.69031455e-15, -1.84297022e-15, -1.69864123e-15, -1.40924309e-15])"
            ]
          },
          "metadata": {},
          "execution_count": 13
        }
      ]
    },
    {
      "cell_type": "code",
      "source": [
        "X.std(axis=0)"
      ],
      "metadata": {
        "id": "QWzkrRB44r5q",
        "outputId": "cf7ca773-83ea-47df-e323-98d76c003efa",
        "colab": {
          "base_uri": "https://localhost:8080/"
        }
      },
      "execution_count": null,
      "outputs": [
        {
          "output_type": "execute_result",
          "data": {
            "text/plain": [
              "array([1., 1., 1., 1.])"
            ]
          },
          "metadata": {},
          "execution_count": 14
        }
      ]
    }
  ]
}